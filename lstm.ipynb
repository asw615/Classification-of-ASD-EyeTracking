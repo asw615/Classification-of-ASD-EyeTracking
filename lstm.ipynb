{
 "cells": [
  {
   "cell_type": "code",
   "execution_count": 1,
   "metadata": {},
   "outputs": [],
   "source": [
    "import numpy as np\n",
    "import pandas as pd\n",
    "import tensorflow as tf\n",
    "from sklearn.preprocessing import MinMaxScaler\n",
    "from sklearn.model_selection import train_test_split"
   ]
  },
  {
   "cell_type": "code",
   "execution_count": 2,
   "metadata": {},
   "outputs": [],
   "source": [
    "\n",
    "# Load the data\n",
    "data_path = \"/Users/sorenmeiner/Documents/PercAct/data/Eye-tracking Output/cleaned_data.csv\"\n",
    "df = pd.read_csv(data_path)\n"
   ]
  },
  {
   "cell_type": "code",
   "execution_count": 3,
   "metadata": {},
   "outputs": [
    {
     "name": "stderr",
     "output_type": "stream",
     "text": [
      "/var/folders/94/903y39c95x3g49g0_7l22jn00000gn/T/ipykernel_8774/1613286129.py:17: SettingWithCopyWarning: \n",
      "A value is trying to be set on a copy of a slice from a DataFrame.\n",
      "Try using .loc[row_indexer,col_indexer] = value instead\n",
      "\n",
      "See the caveats in the documentation: https://pandas.pydata.org/pandas-docs/stable/user_guide/indexing.html#returning-a-view-versus-a-copy\n",
      "  df_relevant[col] = pd.to_numeric(df_relevant[col], errors='coerce')\n",
      "/var/folders/94/903y39c95x3g49g0_7l22jn00000gn/T/ipykernel_8774/1613286129.py:22: SettingWithCopyWarning: \n",
      "A value is trying to be set on a copy of a slice from a DataFrame.\n",
      "Try using .loc[row_indexer,col_indexer] = value instead\n",
      "\n",
      "See the caveats in the documentation: https://pandas.pydata.org/pandas-docs/stable/user_guide/indexing.html#returning-a-view-versus-a-copy\n",
      "  df[col] = df[col].fillna(method='ffill')\n",
      "/var/folders/94/903y39c95x3g49g0_7l22jn00000gn/T/ipykernel_8774/1613286129.py:25: SettingWithCopyWarning: \n",
      "A value is trying to be set on a copy of a slice from a DataFrame.\n",
      "Try using .loc[row_indexer,col_indexer] = value instead\n",
      "\n",
      "See the caveats in the documentation: https://pandas.pydata.org/pandas-docs/stable/user_guide/indexing.html#returning-a-view-versus-a-copy\n",
      "  df[col] = df[col].fillna((df[col].shift(1) + df[col].shift(-1)) / 2)\n",
      "/var/folders/94/903y39c95x3g49g0_7l22jn00000gn/T/ipykernel_8774/1613286129.py:31: SettingWithCopyWarning: \n",
      "A value is trying to be set on a copy of a slice from a DataFrame.\n",
      "Try using .loc[row_indexer,col_indexer] = value instead\n",
      "\n",
      "See the caveats in the documentation: https://pandas.pydata.org/pandas-docs/stable/user_guide/indexing.html#returning-a-view-versus-a-copy\n",
      "  df_relevant[col] = fill_with_row_mean(df_relevant, col)\n",
      "/var/folders/94/903y39c95x3g49g0_7l22jn00000gn/T/ipykernel_8774/1613286129.py:34: SettingWithCopyWarning: \n",
      "A value is trying to be set on a copy of a slice from a DataFrame\n",
      "\n",
      "See the caveats in the documentation: https://pandas.pydata.org/pandas-docs/stable/user_guide/indexing.html#returning-a-view-versus-a-copy\n",
      "  df_relevant.fillna(method='bfill', inplace=True)\n"
     ]
    }
   ],
   "source": [
    "## Normalizing data ##\n",
    "\n",
    "# Feature selection of relevant columns\n",
    "relevant_columns = ['Time.s', 'Point of Regard Left X [px]', 'Point of Regard Left Y [px]',\n",
    "                    'Point of Regard Right X [px]', 'Point of Regard Right Y [px]',\n",
    "                    'Pupil Diameter Left [mm]', 'Pupil Diameter Right [mm]', 'Tracking Ratio [%]',\n",
    "                    'Category Left', 'Category Right', 'Participant', 'Trial', 'Stimulus', 'Gender', 'Age', 'Class', 'CARS Score']\n",
    "df_relevant = df[relevant_columns]\n",
    "\n",
    "# List of numerical columns to scale\n",
    "numerical_columns = ['Time.s', 'Point of Regard Left X [px]', 'Point of Regard Left Y [px]',\n",
    "                     'Point of Regard Right X [px]', 'Point of Regard Right Y [px]',\n",
    "                     'Pupil Diameter Left [mm]', 'Pupil Diameter Right [mm]', 'Tracking Ratio [%]']\n",
    "\n",
    "# Convert columns to numeric, coercing errors to NaN\n",
    "for col in numerical_columns:\n",
    "    df_relevant[col] = pd.to_numeric(df_relevant[col], errors='coerce')\n",
    "\n",
    "# Define a function to fill NaN with the mean of the previous and next row\n",
    "def fill_with_row_mean(df, col):\n",
    "    # First, forward fill the first NaN (if any)\n",
    "    df[col] = df[col].fillna(method='ffill')\n",
    "    \n",
    "    # Then, fill the rest with the mean of the previous and next row\n",
    "    df[col] = df[col].fillna((df[col].shift(1) + df[col].shift(-1)) / 2)\n",
    "    \n",
    "    return df[col]\n",
    "\n",
    "# Apply this function to each numerical column\n",
    "for col in numerical_columns:\n",
    "    df_relevant[col] = fill_with_row_mean(df_relevant, col)\n",
    "\n",
    "# Handle any remaining NaNs, especially at the end of the DataFrame\n",
    "df_relevant.fillna(method='bfill', inplace=True)\n",
    "\n",
    "# Normalize data per combination of Trial, Participant, and Stimulus\n",
    "for (trial, participant, stimulus), group_data in df_relevant.groupby(['Trial', 'Participant', 'Stimulus']):\n",
    "    scaler = MinMaxScaler()\n",
    "    # Apply the scaler to all numerical columns for this group\n",
    "    df_relevant.loc[group_data.index, numerical_columns] = scaler.fit_transform(group_data[numerical_columns])\n",
    "\n",
    "# Save the normalized data\n",
    "df_relevant.to_csv(\"/Users/sorenmeiner/Documents/PercAct/data/Eye-tracking Output/normalized_data.csv\", index=False)"
   ]
  },
  {
   "cell_type": "code",
   "execution_count": 6,
   "metadata": {},
   "outputs": [
    {
     "ename": "NameError",
     "evalue": "name 'participant_index' is not defined",
     "output_type": "error",
     "traceback": [
      "\u001b[0;31m---------------------------------------------------------------------------\u001b[0m",
      "\u001b[0;31mNameError\u001b[0m                                 Traceback (most recent call last)",
      "Cell \u001b[0;32mIn[6], line 19\u001b[0m\n\u001b[1;32m     16\u001b[0m participant_asd_status \u001b[38;5;241m=\u001b[39m {\u001b[38;5;241m.\u001b[39m\u001b[38;5;241m.\u001b[39m\u001b[38;5;241m.\u001b[39m}  \u001b[38;5;66;03m# Fill this with the actual mapping\u001b[39;00m\n\u001b[1;32m     18\u001b[0m sequence_length \u001b[38;5;241m=\u001b[39m \u001b[38;5;241m60\u001b[39m  \u001b[38;5;66;03m# 1 second of data\u001b[39;00m\n\u001b[0;32m---> 19\u001b[0m data_sequences, labels \u001b[38;5;241m=\u001b[39m \u001b[43mcreate_sequences\u001b[49m\u001b[43m(\u001b[49m\u001b[43mdf_relevant\u001b[49m\u001b[38;5;241;43m.\u001b[39;49m\u001b[43mvalues\u001b[49m\u001b[43m,\u001b[49m\u001b[43m \u001b[49m\u001b[43msequence_length\u001b[49m\u001b[43m,\u001b[49m\u001b[43m \u001b[49m\u001b[43mparticipant_asd_status\u001b[49m\u001b[43m)\u001b[49m\n\u001b[1;32m     20\u001b[0m \u001b[38;5;66;03m# Reshape for LSTM\u001b[39;00m\n\u001b[1;32m     21\u001b[0m X \u001b[38;5;241m=\u001b[39m data_sequences\u001b[38;5;241m.\u001b[39mreshape((data_sequences\u001b[38;5;241m.\u001b[39mshape[\u001b[38;5;241m0\u001b[39m], sequence_length, data_sequences\u001b[38;5;241m.\u001b[39mshape[\u001b[38;5;241m2\u001b[39m]))\n",
      "Cell \u001b[0;32mIn[6], line 9\u001b[0m, in \u001b[0;36mcreate_sequences\u001b[0;34m(data, sequence_length, participant_asd_status)\u001b[0m\n\u001b[1;32m      7\u001b[0m sequence \u001b[38;5;241m=\u001b[39m data[i:i \u001b[38;5;241m+\u001b[39m sequence_length]\n\u001b[1;32m      8\u001b[0m \u001b[38;5;66;03m# Assuming the participant ID is at a specific index, and you have a mapping\u001b[39;00m\n\u001b[0;32m----> 9\u001b[0m participant_id \u001b[38;5;241m=\u001b[39m sequence[\u001b[38;5;241m0\u001b[39m, \u001b[43mparticipant_index\u001b[49m]  \u001b[38;5;66;03m# Adjust 'participant_index' as needed\u001b[39;00m\n\u001b[1;32m     10\u001b[0m label \u001b[38;5;241m=\u001b[39m participant_asd_status[participant_id]  \u001b[38;5;66;03m# Get ASD status for the participant\u001b[39;00m\n\u001b[1;32m     11\u001b[0m sequences\u001b[38;5;241m.\u001b[39mappend(sequence)\n",
      "\u001b[0;31mNameError\u001b[0m: name 'participant_index' is not defined"
     ]
    }
   ],
   "source": [
    "# Splitting the data into training and test sets\n",
    "\n",
    "def create_sequences(data, sequence_length):\n",
    "    sequences = []\n",
    "    labels = []  # Adjust based on your task\n",
    "    for i in range(len(data) - sequence_length):\n",
    "        sequence = data[i:i + sequence_length]\n",
    "        label = ...  # Define your label\n",
    "        sequences.append(sequence)\n",
    "        labels.append(label)\n",
    "    return np.array(sequences), np.array(labels)\n",
    "\n",
    "sequence_length = 60  # 1 second of data\n",
    "data_sequences, labels = create_sequences(df_relevant.values, sequence_length)\n",
    "\n",
    "# Reshape for LSTM\n",
    "X = data_sequences.reshape((data_sequences.shape[0], sequence_length, data_sequences.shape[2]))\n",
    "\n",
    "# Train-test split\n",
    "X_train, X_test, y_train, y_test = train_test_split(X, labels, test_size=0.2, shuffle=False)\n",
    "\n"
   ]
  },
  {
   "cell_type": "code",
   "execution_count": null,
   "metadata": {},
   "outputs": [],
   "source": [
    "\n",
    "# Define the LSTM model\n",
    "model = Sequential()\n",
    "# Add LSTM layers and other necessary layers\n",
    "# ...\n",
    "\n",
    "# Compile the model\n",
    "model.compile(loss='mean_squared_error', optimizer='adam')\n",
    "\n",
    "# Train the model\n",
    "# ...\n",
    "\n",
    "# Evaluate the model\n",
    "# ...\n",
    "\n",
    "# Make predictions\n",
    "# ..."
   ]
  }
 ],
 "metadata": {
  "kernelspec": {
   "display_name": "Python 3",
   "language": "python",
   "name": "python3"
  },
  "language_info": {
   "codemirror_mode": {
    "name": "ipython",
    "version": 3
   },
   "file_extension": ".py",
   "mimetype": "text/x-python",
   "name": "python",
   "nbconvert_exporter": "python",
   "pygments_lexer": "ipython3",
   "version": "3.11.0"
  }
 },
 "nbformat": 4,
 "nbformat_minor": 2
}
