{
 "cells": [
  {
   "cell_type": "code",
   "execution_count": 1,
   "metadata": {},
   "outputs": [],
   "source": [
    "import pandas as pd"
   ]
  },
  {
   "cell_type": "code",
   "execution_count": 16,
   "metadata": {},
   "outputs": [
    {
     "name": "stdout",
     "output_type": "stream",
     "text": [
      "Mean age of unique participants: 7.8\n",
      "\n",
      "Unique participants by gender:\n",
      "Gender\n",
      "F    20\n",
      "M    36\n",
      "Name: Participant, dtype: int64\n",
      "\n",
      "Unique participants by class (ASD or TD):\n",
      "Class\n",
      "ASD    27\n",
      "TD     29\n",
      "Name: Participant, dtype: int64\n",
      "\n",
      "Total unique participants: 56\n"
     ]
    }
   ],
   "source": [
    "\n",
    "# Load the cleaned dataset\n",
    "df = pd.read_csv('../data/Eye-tracking Output/cleaned_data.csv')\n",
    "\n",
    "# Creating a subset with unique participants\n",
    "unique_participants_df = df.drop_duplicates(subset='Participant')\n",
    "\n",
    "# Calculate the mean age of unique participants\n",
    "mean_age = unique_participants_df['Age'].mean()\n",
    "print(\"Mean age of unique participants:\", round(mean_age, 2))\n",
    "\n",
    "# Count unique participants for each gender\n",
    "unique_gender_counts = unique_participants_df.groupby('Gender')['Participant'].nunique()\n",
    "print(\"\\nUnique participants by gender:\")\n",
    "print(unique_gender_counts)\n",
    "\n",
    "# Count unique participants for each class (ASD or TD)\n",
    "unique_class_counts = unique_participants_df.groupby('Class')['Participant'].nunique()\n",
    "print(\"\\nUnique participants by class (ASD or TD):\")\n",
    "print(unique_class_counts)\n",
    "\n",
    "# Total number of unique participants\n",
    "n_participants = unique_participants_df['Participant'].nunique()\n",
    "print(\"\\nTotal unique participants:\", n_participants)\n"
   ]
  }
 ],
 "metadata": {
  "kernelspec": {
   "display_name": "Python 3.11.0 64-bit",
   "language": "python",
   "name": "python3"
  },
  "language_info": {
   "codemirror_mode": {
    "name": "ipython",
    "version": 3
   },
   "file_extension": ".py",
   "mimetype": "text/x-python",
   "name": "python",
   "nbconvert_exporter": "python",
   "pygments_lexer": "ipython3",
   "version": "3.11.0"
  },
  "orig_nbformat": 4,
  "vscode": {
   "interpreter": {
    "hash": "aee8b7b246df8f9039afb4144a1f6fd8d2ca17a180786b69acc140d282b71a49"
   }
  }
 },
 "nbformat": 4,
 "nbformat_minor": 2
}
