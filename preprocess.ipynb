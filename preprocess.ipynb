{
 "cells": [
  {
   "cell_type": "code",
   "execution_count": 23,
   "metadata": {},
   "outputs": [],
   "source": [
    "import pandas as pd\n",
    "import glob as glob\n",
    "import csv\n",
    "import os\n",
    "import pandas as pd\n",
    "from sklearn.preprocessing import StandardScaler\n",
    "from scipy import stats\n",
    "import numpy as np"
   ]
  },
  {
   "cell_type": "code",
   "execution_count": null,
   "metadata": {},
   "outputs": [],
   "source": [
    "## Unique columns in each CSV file ## \n",
    "def read_csv_headers(file_path):\n",
    "    with open(file_path, 'r') as csvfile:\n",
    "        reader = csv.reader(csvfile)\n",
    "        headers = next(reader)  # Read the first line\n",
    "    return set(headers)\n",
    "\n",
    "# Directory containing your CSV files\n",
    "directory = '../data/Eye-tracking Output/raw_data'\n",
    "\n",
    "# Read headers from the first file (1.csv)\n",
    "base_headers = read_csv_headers(os.path.join(directory, '1.csv'))\n",
    "\n",
    "# Compare headers from all other files to the first file\n",
    "for i in range(2, 26):\n",
    "    file_path = os.path.join(directory, f'{i}.csv')\n",
    "    if os.path.exists(file_path):\n",
    "        current_headers = read_csv_headers(file_path)\n",
    "        if current_headers != base_headers:\n",
    "            print(f\"\\n{i}.csv differs from 1.csv:\")\n",
    "            print(\"Missing columns in 1.csv:\", current_headers - base_headers)\n",
    "            print(\"Additional columns in 1.csv:\", base_headers - current_headers)\n",
    "    else:\n",
    "        print(f\"{i}.csv does not exist in the directory.\")\n"
   ]
  },
  {
   "cell_type": "code",
   "execution_count": null,
   "metadata": {},
   "outputs": [],
   "source": [
    "## Checking all files which contain the same column names ##\n",
    "\n",
    "# Define the directory containing the CSV files (using the provided path by the user)\n",
    "directory = '../data/Eye-tracking Output/raw_data'\n",
    "\n",
    "# Initialize an empty list to store the column names from each file\n",
    "all_columns = []\n",
    "\n",
    "# Iterate over the file numbers and collect their column names\n",
    "for i in range(1, 26):\n",
    "    file_path = os.path.join(directory, f'{i}.csv')\n",
    "    try:\n",
    "        # Read just the first row to get the column names\n",
    "        df = pd.read_csv(file_path, nrows=0)\n",
    "        # Append the column names to the list\n",
    "        all_columns.append(set(df.columns))\n",
    "    except FileNotFoundError:\n",
    "        print(f\"File {i}.csv not found.\")\n",
    "    except Exception as e:\n",
    "        print(f\"An error occurred while processing {i}.csv: {e}\")\n",
    "\n",
    "# Use set intersection to find the common columns across all files\n",
    "common_columns = set.intersection(*all_columns) if all_columns else set()\n",
    "\n",
    "# Convert the common columns set to a sorted list\n",
    "common_columns_list = sorted(list(common_columns))\n",
    "common_columns_list\n",
    "\n",
    "## saving the column names into a file ## \n",
    "def read_csv_headers(file_path):\n",
    "    with open(file_path, 'r') as csvfile:\n",
    "        reader = csv.reader(csvfile)\n",
    "        headers = next(reader)  # Read the first line\n",
    "    return headers\n",
    "\n",
    "# Directory containing your CSV files\n",
    "directory = '../data/Eye-tracking Output/raw_data'\n",
    "\n",
    "# Set to store unique column names\n",
    "unique_columns = set()\n",
    "\n",
    "# Read headers from all files and update the set of unique columns\n",
    "for i in range(1, 26):\n",
    "    file_path = os.path.join(directory, f'{i}.csv')\n",
    "    if os.path.exists(file_path):\n",
    "        headers = read_csv_headers(file_path)\n",
    "        unique_columns.update(headers)\n",
    "    else:\n",
    "        print(f\"{i}.csv does not exist in the directory.\")\n",
    "\n",
    "# Path for the new CSV file to save unique columns\n",
    "output_file = os.path.join(directory, 'unique_columns.csv')\n",
    "\n",
    "# Write unique column names to the new CSV file\n",
    "with open(output_file, 'w', newline='') as csvfile:\n",
    "    writer = csv.writer(csvfile)\n",
    "    for column in sorted(unique_columns):\n",
    "        writer.writerow([column])\n",
    "\n",
    "print(f\"Unique columns have been saved to {output_file}\")"
   ]
  },
  {
   "cell_type": "code",
   "execution_count": null,
   "metadata": {},
   "outputs": [],
   "source": [
    "## Checking if all ET expirements had different videos ## \n",
    "def read_stimulus_values(file_path):\n",
    "    with open(file_path, 'r') as csvfile:\n",
    "        reader = csv.DictReader(csvfile)\n",
    "        return set(row['Stimulus'] for row in reader)\n",
    "\n",
    "# Directory containing your CSV files\n",
    "directory = '../data/Eye-tracking Output/raw_data'\n",
    "\n",
    "# Store the stimulus values for each file\n",
    "stimulus_dict = {}\n",
    "for i in range(1, 26):\n",
    "    file_path = os.path.join(directory, f'{i}.csv')\n",
    "    if os.path.exists(file_path):\n",
    "        stimulus_dict[f'{i}.csv'] = read_stimulus_values(file_path)\n",
    "    else:\n",
    "        print(f\"{i}.csv does not exist in the directory.\")\n",
    "\n",
    "# Compare the stimulus sets\n",
    "unique_sets = {}\n",
    "for filename, stimuli in stimulus_dict.items():\n",
    "    if stimuli not in unique_sets.values():\n",
    "        unique_sets[filename] = stimuli\n",
    "\n",
    "# Print results\n",
    "print(\"Unique Stimulus Sets:\")\n",
    "for filename in unique_sets:\n",
    "    print(f\"- {filename}\")\n",
    "\n",
    "print(\"\\nFiles with Same Stimulus Sets:\")\n",
    "for file1, stimuli1 in stimulus_dict.items():\n",
    "    same_sets = [file2 for file2, stimuli2 in stimulus_dict.items() if stimuli1 == stimuli2 and file1 != file2]\n",
    "    if same_sets:\n",
    "        print(f\"{file1} has the same stimulus set as: {', '.join(same_sets)}\")"
   ]
  },
  {
   "cell_type": "code",
   "execution_count": 53,
   "metadata": {},
   "outputs": [
    {
     "name": "stderr",
     "output_type": "stream",
     "text": [
      "/var/folders/94/903y39c95x3g49g0_7l22jn00000gn/T/ipykernel_86845/4294307232.py:15: DtypeWarning: Columns (15,16,17,18,19,20,21,22,23,24,27,28,29,30,31,32,33,34,35,36,37,38,39,40,41,42) have mixed types. Specify dtype option on import or set low_memory=False.\n",
      "  df = pd.read_csv(file_, dtype=dtype_dict, index_col=None, header=0)\n"
     ]
    }
   ],
   "source": [
    "## Concatting data into single CSV file ##\n",
    "# Path to the directory containing CSV files\n",
    "path = \"../data/Eye-tracking Output/raw_data/*.csv\"\n",
    "\n",
    "# Using glob to find all csv files in the directory\n",
    "file_list = glob.glob(path)\n",
    "\n",
    "# Define data types for columns with mixed types\n",
    "dtype_dict = {str(i): str for i in range(15, 43)}\n",
    "dtype_dict['Participant'] = str  # Ensure Participant is also read as string\n",
    "\n",
    "# Reading all csv files and appending them to a list\n",
    "list_ = []\n",
    "for file_ in file_list:\n",
    "    df = pd.read_csv(file_, dtype=dtype_dict, index_col=None, header=0)\n",
    "    list_.append(df)\n",
    "\n",
    "# Concatenating all csv files into one dataframe\n",
    "df = pd.concat(list_, axis=0, ignore_index=True)\n",
    "\n",
    "# Saving the dataframe as a csv file\n",
    "df.to_csv(\"../data/Eye-tracking Output/combined.csv\", index=False)"
   ]
  },
  {
   "cell_type": "code",
   "execution_count": 55,
   "metadata": {},
   "outputs": [
    {
     "name": "stdout",
     "output_type": "stream",
     "text": [
      "Total number of different participants across all CSV files: 59\n"
     ]
    },
    {
     "name": "stderr",
     "output_type": "stream",
     "text": [
      "/var/folders/94/903y39c95x3g49g0_7l22jn00000gn/T/ipykernel_86845/482206397.py:26: DtypeWarning: Columns (7,12,14,15,16,19,20,21,22,26,27,28,37,38,39,40,41,42,43,44,45,46,47,48,49,50,51,52,53,54,55,56,57,58) have mixed types. Specify dtype option on import or set low_memory=False.\n",
      "  df = pd.read_csv('../data/Eye-tracking Output/combined.csv')\n"
     ]
    },
    {
     "name": "stdout",
     "output_type": "stream",
     "text": [
      "dataset has 91 unique participants\n"
     ]
    }
   ],
   "source": [
    "## Checking how many participants in raw csv files compared to combined ##\n",
    "# Directory containing your CSV files\n",
    "directory = '../data/Eye-tracking Output/raw_data'\n",
    "\n",
    "def count_unique_participants(directory, participant_id_column):\n",
    "    participant_ids = set()\n",
    "    for i in range(1, 26):\n",
    "        file_path = os.path.join(directory, f'{i}.csv')\n",
    "        try:\n",
    "            with open(file_path, 'r') as csvfile:\n",
    "                reader = csv.DictReader(csvfile)\n",
    "                for row in reader:\n",
    "                    participant_ids.add(row[participant_id_column])\n",
    "        except FileNotFoundError:\n",
    "            print(f\"File {file_path} not found.\")\n",
    "        except Exception as e:\n",
    "            print(f\"An error occurred while processing {file_path}: {e}\")\n",
    "\n",
    "    return len(participant_ids)\n",
    "\n",
    "participant_id_column = 'Participant' \n",
    "num_participants = count_unique_participants(directory, participant_id_column)\n",
    "print(f\"Total number of different participants across all CSV files: {num_participants}\")\n",
    "\n",
    "# checking number of participants in the combined csv\n",
    "df = pd.read_csv('../data/Eye-tracking Output/combined.csv')\n",
    "n_participants = len(pd.unique(df['Participant']))\n",
    "print(\"dataset has\", n_participants, \"unique participants\")\n",
    "\n",
    "# NOTE ved fandeme ikke lige hvorfor den siger, der er 91 unique participants"
   ]
  },
  {
   "cell_type": "code",
   "execution_count": 56,
   "metadata": {},
   "outputs": [
    {
     "ename": "KeyboardInterrupt",
     "evalue": "",
     "output_type": "error",
     "traceback": [
      "\u001b[0;31m---------------------------------------------------------------------------\u001b[0m",
      "\u001b[0;31mKeyboardInterrupt\u001b[0m                         Traceback (most recent call last)",
      "Cell \u001b[0;32mIn[56], line 4\u001b[0m\n\u001b[1;32m      1\u001b[0m \u001b[38;5;66;03m## Cleaning the data\u001b[39;00m\n\u001b[1;32m      2\u001b[0m \u001b[38;5;66;03m# Load the main dataset\u001b[39;00m\n\u001b[1;32m      3\u001b[0m file_path \u001b[38;5;241m=\u001b[39m \u001b[38;5;124m'\u001b[39m\u001b[38;5;124m../data/Eye-tracking Output/combined.csv\u001b[39m\u001b[38;5;124m'\u001b[39m\n\u001b[0;32m----> 4\u001b[0m df \u001b[38;5;241m=\u001b[39m \u001b[43mpd\u001b[49m\u001b[38;5;241;43m.\u001b[39;49m\u001b[43mread_csv\u001b[49m\u001b[43m(\u001b[49m\u001b[43mfile_path\u001b[49m\u001b[43m)\u001b[49m\n\u001b[1;32m      6\u001b[0m \u001b[38;5;66;03m# Keep only relevant columns\u001b[39;00m\n\u001b[1;32m      7\u001b[0m relevant_columns \u001b[38;5;241m=\u001b[39m [\n\u001b[1;32m      8\u001b[0m     \u001b[38;5;124m'\u001b[39m\u001b[38;5;124mParticipant\u001b[39m\u001b[38;5;124m'\u001b[39m, \u001b[38;5;124m'\u001b[39m\u001b[38;5;124mTrial\u001b[39m\u001b[38;5;124m'\u001b[39m, \u001b[38;5;124m'\u001b[39m\u001b[38;5;124mStimulus\u001b[39m\u001b[38;5;124m'\u001b[39m, \u001b[38;5;124m'\u001b[39m\u001b[38;5;124mRecordingTime [ms]\u001b[39m\u001b[38;5;124m'\u001b[39m,\n\u001b[1;32m      9\u001b[0m     \u001b[38;5;124m'\u001b[39m\u001b[38;5;124mExport Start Trial Time [ms]\u001b[39m\u001b[38;5;124m'\u001b[39m, \u001b[38;5;124m'\u001b[39m\u001b[38;5;124mExport End Trial Time [ms]\u001b[39m\u001b[38;5;124m'\u001b[39m,\n\u001b[0;32m   (...)\u001b[0m\n\u001b[1;32m     14\u001b[0m     \u001b[38;5;124m'\u001b[39m\u001b[38;5;124mTime of Day [h:m:s:ms]\u001b[39m\u001b[38;5;124m'\u001b[39m\n\u001b[1;32m     15\u001b[0m ]\n",
      "File \u001b[0;32m/Library/Frameworks/Python.framework/Versions/3.11/lib/python3.11/site-packages/pandas/util/_decorators.py:211\u001b[0m, in \u001b[0;36mdeprecate_kwarg.<locals>._deprecate_kwarg.<locals>.wrapper\u001b[0;34m(*args, **kwargs)\u001b[0m\n\u001b[1;32m    209\u001b[0m     \u001b[39melse\u001b[39;00m:\n\u001b[1;32m    210\u001b[0m         kwargs[new_arg_name] \u001b[39m=\u001b[39m new_arg_value\n\u001b[0;32m--> 211\u001b[0m \u001b[39mreturn\u001b[39;00m func(\u001b[39m*\u001b[39;49margs, \u001b[39m*\u001b[39;49m\u001b[39m*\u001b[39;49mkwargs)\n",
      "File \u001b[0;32m/Library/Frameworks/Python.framework/Versions/3.11/lib/python3.11/site-packages/pandas/util/_decorators.py:331\u001b[0m, in \u001b[0;36mdeprecate_nonkeyword_arguments.<locals>.decorate.<locals>.wrapper\u001b[0;34m(*args, **kwargs)\u001b[0m\n\u001b[1;32m    325\u001b[0m \u001b[39mif\u001b[39;00m \u001b[39mlen\u001b[39m(args) \u001b[39m>\u001b[39m num_allow_args:\n\u001b[1;32m    326\u001b[0m     warnings\u001b[39m.\u001b[39mwarn(\n\u001b[1;32m    327\u001b[0m         msg\u001b[39m.\u001b[39mformat(arguments\u001b[39m=\u001b[39m_format_argument_list(allow_args)),\n\u001b[1;32m    328\u001b[0m         \u001b[39mFutureWarning\u001b[39;00m,\n\u001b[1;32m    329\u001b[0m         stacklevel\u001b[39m=\u001b[39mfind_stack_level(),\n\u001b[1;32m    330\u001b[0m     )\n\u001b[0;32m--> 331\u001b[0m \u001b[39mreturn\u001b[39;00m func(\u001b[39m*\u001b[39;49margs, \u001b[39m*\u001b[39;49m\u001b[39m*\u001b[39;49mkwargs)\n",
      "File \u001b[0;32m/Library/Frameworks/Python.framework/Versions/3.11/lib/python3.11/site-packages/pandas/io/parsers/readers.py:950\u001b[0m, in \u001b[0;36mread_csv\u001b[0;34m(filepath_or_buffer, sep, delimiter, header, names, index_col, usecols, squeeze, prefix, mangle_dupe_cols, dtype, engine, converters, true_values, false_values, skipinitialspace, skiprows, skipfooter, nrows, na_values, keep_default_na, na_filter, verbose, skip_blank_lines, parse_dates, infer_datetime_format, keep_date_col, date_parser, dayfirst, cache_dates, iterator, chunksize, compression, thousands, decimal, lineterminator, quotechar, quoting, doublequote, escapechar, comment, encoding, encoding_errors, dialect, error_bad_lines, warn_bad_lines, on_bad_lines, delim_whitespace, low_memory, memory_map, float_precision, storage_options)\u001b[0m\n\u001b[1;32m    935\u001b[0m kwds_defaults \u001b[39m=\u001b[39m _refine_defaults_read(\n\u001b[1;32m    936\u001b[0m     dialect,\n\u001b[1;32m    937\u001b[0m     delimiter,\n\u001b[0;32m   (...)\u001b[0m\n\u001b[1;32m    946\u001b[0m     defaults\u001b[39m=\u001b[39m{\u001b[39m\"\u001b[39m\u001b[39mdelimiter\u001b[39m\u001b[39m\"\u001b[39m: \u001b[39m\"\u001b[39m\u001b[39m,\u001b[39m\u001b[39m\"\u001b[39m},\n\u001b[1;32m    947\u001b[0m )\n\u001b[1;32m    948\u001b[0m kwds\u001b[39m.\u001b[39mupdate(kwds_defaults)\n\u001b[0;32m--> 950\u001b[0m \u001b[39mreturn\u001b[39;00m _read(filepath_or_buffer, kwds)\n",
      "File \u001b[0;32m/Library/Frameworks/Python.framework/Versions/3.11/lib/python3.11/site-packages/pandas/io/parsers/readers.py:611\u001b[0m, in \u001b[0;36m_read\u001b[0;34m(filepath_or_buffer, kwds)\u001b[0m\n\u001b[1;32m    608\u001b[0m     \u001b[39mreturn\u001b[39;00m parser\n\u001b[1;32m    610\u001b[0m \u001b[39mwith\u001b[39;00m parser:\n\u001b[0;32m--> 611\u001b[0m     \u001b[39mreturn\u001b[39;00m parser\u001b[39m.\u001b[39;49mread(nrows)\n",
      "File \u001b[0;32m/Library/Frameworks/Python.framework/Versions/3.11/lib/python3.11/site-packages/pandas/io/parsers/readers.py:1778\u001b[0m, in \u001b[0;36mTextFileReader.read\u001b[0;34m(self, nrows)\u001b[0m\n\u001b[1;32m   1771\u001b[0m nrows \u001b[39m=\u001b[39m validate_integer(\u001b[39m\"\u001b[39m\u001b[39mnrows\u001b[39m\u001b[39m\"\u001b[39m, nrows)\n\u001b[1;32m   1772\u001b[0m \u001b[39mtry\u001b[39;00m:\n\u001b[1;32m   1773\u001b[0m     \u001b[39m# error: \"ParserBase\" has no attribute \"read\"\u001b[39;00m\n\u001b[1;32m   1774\u001b[0m     (\n\u001b[1;32m   1775\u001b[0m         index,\n\u001b[1;32m   1776\u001b[0m         columns,\n\u001b[1;32m   1777\u001b[0m         col_dict,\n\u001b[0;32m-> 1778\u001b[0m     ) \u001b[39m=\u001b[39m \u001b[39mself\u001b[39;49m\u001b[39m.\u001b[39;49m_engine\u001b[39m.\u001b[39;49mread(  \u001b[39m# type: ignore[attr-defined]\u001b[39;49;00m\n\u001b[1;32m   1779\u001b[0m         nrows\n\u001b[1;32m   1780\u001b[0m     )\n\u001b[1;32m   1781\u001b[0m \u001b[39mexcept\u001b[39;00m \u001b[39mException\u001b[39;00m:\n\u001b[1;32m   1782\u001b[0m     \u001b[39mself\u001b[39m\u001b[39m.\u001b[39mclose()\n",
      "File \u001b[0;32m/Library/Frameworks/Python.framework/Versions/3.11/lib/python3.11/site-packages/pandas/io/parsers/c_parser_wrapper.py:230\u001b[0m, in \u001b[0;36mCParserWrapper.read\u001b[0;34m(self, nrows)\u001b[0m\n\u001b[1;32m    228\u001b[0m \u001b[39mtry\u001b[39;00m:\n\u001b[1;32m    229\u001b[0m     \u001b[39mif\u001b[39;00m \u001b[39mself\u001b[39m\u001b[39m.\u001b[39mlow_memory:\n\u001b[0;32m--> 230\u001b[0m         chunks \u001b[39m=\u001b[39m \u001b[39mself\u001b[39m\u001b[39m.\u001b[39m_reader\u001b[39m.\u001b[39mread_low_memory(nrows)\n\u001b[1;32m    231\u001b[0m         \u001b[39m# destructive to chunks\u001b[39;00m\n\u001b[1;32m    232\u001b[0m         data \u001b[39m=\u001b[39m _concatenate_chunks(chunks)\n",
      "File \u001b[0;32m/Library/Frameworks/Python.framework/Versions/3.11/lib/python3.11/site-packages/pandas/_libs/parsers.pyx:808\u001b[0m, in \u001b[0;36mpandas._libs.parsers.TextReader.read_low_memory\u001b[0;34m()\u001b[0m\n",
      "File \u001b[0;32m/Library/Frameworks/Python.framework/Versions/3.11/lib/python3.11/site-packages/pandas/_libs/parsers.pyx:890\u001b[0m, in \u001b[0;36mpandas._libs.parsers.TextReader._read_rows\u001b[0;34m()\u001b[0m\n",
      "File \u001b[0;32m/Library/Frameworks/Python.framework/Versions/3.11/lib/python3.11/site-packages/pandas/_libs/parsers.pyx:1037\u001b[0m, in \u001b[0;36mpandas._libs.parsers.TextReader._convert_column_data\u001b[0;34m()\u001b[0m\n",
      "File \u001b[0;32m/Library/Frameworks/Python.framework/Versions/3.11/lib/python3.11/site-packages/pandas/_libs/parsers.pyx:1083\u001b[0m, in \u001b[0;36mpandas._libs.parsers.TextReader._convert_tokens\u001b[0;34m()\u001b[0m\n",
      "File \u001b[0;32m/Library/Frameworks/Python.framework/Versions/3.11/lib/python3.11/site-packages/pandas/_libs/parsers.pyx:1158\u001b[0m, in \u001b[0;36mpandas._libs.parsers.TextReader._convert_with_dtype\u001b[0;34m()\u001b[0m\n",
      "File \u001b[0;32m/Library/Frameworks/Python.framework/Versions/3.11/lib/python3.11/site-packages/pandas/core/dtypes/common.py:1433\u001b[0m, in \u001b[0;36mis_extension_array_dtype\u001b[0;34m(arr_or_dtype)\u001b[0m\n\u001b[1;32m   1424\u001b[0m     \u001b[39m# Note: if other EA dtypes are ever held in HybridBlock, exclude those\u001b[39;00m\n\u001b[1;32m   1425\u001b[0m     \u001b[39m#  here too.\u001b[39;00m\n\u001b[1;32m   1426\u001b[0m     \u001b[39m# NB: need to check DatetimeTZDtype and not is_datetime64tz_dtype\u001b[39;00m\n\u001b[1;32m   1427\u001b[0m     \u001b[39m#  to exclude ArrowTimestampUSDtype\u001b[39;00m\n\u001b[1;32m   1428\u001b[0m     \u001b[39mreturn\u001b[39;00m \u001b[39misinstance\u001b[39m(dtype, ExtensionDtype) \u001b[39mand\u001b[39;00m \u001b[39mnot\u001b[39;00m \u001b[39misinstance\u001b[39m(\n\u001b[1;32m   1429\u001b[0m         dtype, (DatetimeTZDtype, PeriodDtype)\n\u001b[1;32m   1430\u001b[0m     )\n\u001b[0;32m-> 1433\u001b[0m \u001b[39mdef\u001b[39;00m \u001b[39mis_extension_array_dtype\u001b[39m(arr_or_dtype) \u001b[39m-\u001b[39m\u001b[39m>\u001b[39m \u001b[39mbool\u001b[39m:\n\u001b[1;32m   1434\u001b[0m \u001b[39m    \u001b[39m\u001b[39m\"\"\"\u001b[39;00m\n\u001b[1;32m   1435\u001b[0m \u001b[39m    Check if an object is a pandas extension array type.\u001b[39;00m\n\u001b[1;32m   1436\u001b[0m \n\u001b[0;32m   (...)\u001b[0m\n\u001b[1;32m   1476\u001b[0m \u001b[39m    False\u001b[39;00m\n\u001b[1;32m   1477\u001b[0m \u001b[39m    \"\"\"\u001b[39;00m\n\u001b[1;32m   1478\u001b[0m     dtype \u001b[39m=\u001b[39m \u001b[39mgetattr\u001b[39m(arr_or_dtype, \u001b[39m\"\u001b[39m\u001b[39mdtype\u001b[39m\u001b[39m\"\u001b[39m, arr_or_dtype)\n",
      "\u001b[0;31mKeyboardInterrupt\u001b[0m: "
     ]
    }
   ],
   "source": [
    "## Cleaning the data\n",
    "# Load the main dataset\n",
    "file_path = '../data/Eye-tracking Output/combined.csv'\n",
    "df = pd.read_csv(file_path)\n",
    "\n",
    "# Keep only relevant columns\n",
    "relevant_columns = [\n",
    "    'Participant', 'Trial', 'Stimulus', 'RecordingTime [ms]',\n",
    "    'Export Start Trial Time [ms]', 'Export End Trial Time [ms]',\n",
    "    'Point of Regard Left X [px]', 'Point of Regard Left Y [px]',\n",
    "    'Point of Regard Right X [px]', 'Point of Regard Right Y [px]',\n",
    "    'Pupil Diameter Left [mm]', 'Pupil Diameter Right [mm]',\n",
    "    'Tracking Ratio [%]', 'Category Left', 'Category Right',\n",
    "    'Time of Day [h:m:s:ms]'\n",
    "]\n",
    "df = df[relevant_columns]\n",
    "\n",
    "# Drop rows with missing values\n",
    "df.dropna(inplace=True)\n",
    "\n",
    "# Remove unidentified participants\n",
    "df = df[~df['Participant'].isin([\"Unidentified(Neg)\", \"Unidentified(Pos)\"])]\n",
    "\n",
    "# Convert 'Participant' to numeric if necessary\n",
    "df['Participant'] = pd.to_numeric(df['Participant'], errors='coerce')\n",
    "\n",
    "# Load the metadata\n",
    "df_metadata = pd.read_csv('../data/Metadata_Participants.csv')\n",
    "\n",
    "# Merge the metadata with the main dataframe\n",
    "df = pd.merge(df, df_metadata, left_on='Participant', right_on='ParticipantID', how='left')\n",
    "\n",
    "# Drop the 'ParticipantID' column\n",
    "df.drop('ParticipantID', axis=1, inplace=True)\n",
    "\n",
    "\n",
    "# Save the cleaned data\n",
    "output_file = '../data/Eye-tracking Output/cleaned_data.csv'\n",
    "df.to_csv(output_file, index=False)\n",
    "\n",
    "print(\"Data cleaning completed and saved to\", output_file)\n"
   ]
  },
  {
   "cell_type": "markdown",
   "metadata": {},
   "source": []
  }
 ],
 "metadata": {
  "kernelspec": {
   "display_name": "Python 3.11.0 64-bit",
   "language": "python",
   "name": "python3"
  },
  "language_info": {
   "codemirror_mode": {
    "name": "ipython",
    "version": 3
   },
   "file_extension": ".py",
   "mimetype": "text/x-python",
   "name": "python",
   "nbconvert_exporter": "python",
   "pygments_lexer": "ipython3",
   "version": "3.11.0"
  },
  "orig_nbformat": 4,
  "vscode": {
   "interpreter": {
    "hash": "aee8b7b246df8f9039afb4144a1f6fd8d2ca17a180786b69acc140d282b71a49"
   }
  }
 },
 "nbformat": 4,
 "nbformat_minor": 2
}
